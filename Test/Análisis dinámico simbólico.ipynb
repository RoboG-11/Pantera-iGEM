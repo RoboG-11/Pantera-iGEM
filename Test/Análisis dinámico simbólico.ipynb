{
 "cells": [
  {
   "cell_type": "code",
   "execution_count": 3,
   "id": "c01a1025-cc78-4647-ba14-a333a73e5539",
   "metadata": {},
   "outputs": [
    {
     "name": "stderr",
     "output_type": "stream",
     "text": [
      "\u001b[32m\u001b[1m    Updating\u001b[22m\u001b[39m registry at `C:\\Users\\Mauricio-Silva\\.julia\\registries\\General.toml`\n"
     ]
    },
    {
     "name": "stderr",
     "output_type": "stream",
     "text": [
      "\u001b[32m\u001b[1m   Resolving\u001b[22m\u001b[39m package versions..."
     ]
    },
    {
     "name": "stderr",
     "output_type": "stream",
     "text": [
      "\n"
     ]
    },
    {
     "name": "stderr",
     "output_type": "stream",
     "text": [
      "\u001b[32m\u001b[1m   Installed\u001b[22m\u001b[39m Conda ────────── v1.9.0\n"
     ]
    },
    {
     "name": "stderr",
     "output_type": "stream",
     "text": [
      "\u001b[32m\u001b[1m   Installed\u001b[22m\u001b[39m VersionParsing ─ v1.3.0\n",
      "\u001b[32m\u001b[1m   Installed\u001b[22m\u001b[39m CommonEq ─────── v0.2.0\n"
     ]
    },
    {
     "name": "stderr",
     "output_type": "stream",
     "text": [
      "\u001b[32m\u001b[1m   Installed\u001b[22m\u001b[39m CommonSolve ──── v0.2.4\n",
      "\u001b[32m\u001b[1m   Installed\u001b[22m\u001b[39m PyCall ───────── v1.96.0\n"
     ]
    },
    {
     "name": "stderr",
     "output_type": "stream",
     "text": [
      "\u001b[32m\u001b[1m   Installed\u001b[22m\u001b[39m SymPy ────────── v1.1.9\n"
     ]
    },
    {
     "name": "stderr",
     "output_type": "stream",
     "text": [
      "\u001b[32m\u001b[1m    Updating\u001b[22m\u001b[39m `C:\\Users\\Mauricio-Silva\\.julia\\environments\\v1.8\\Project.toml`\n",
      " \u001b[90m [24249f21] \u001b[39m\u001b[92m+ SymPy v1.1.9\u001b[39m\n",
      "\u001b[32m\u001b[1m    Updating\u001b[22m\u001b[39m `C:\\Users\\Mauricio-Silva\\.julia\\environments\\v1.8\\Manifest.toml`\n"
     ]
    },
    {
     "name": "stderr",
     "output_type": "stream",
     "text": [
      " \u001b[90m [3709ef60] \u001b[39m\u001b[92m+ CommonEq v0.2.0\u001b[39m\n",
      " \u001b[90m [38540f10] \u001b[39m\u001b[92m+ CommonSolve v0.2.4\u001b[39m\n",
      " \u001b[90m [8f4d0f93] \u001b[39m\u001b[92m+ Conda v1.9.0\u001b[39m\n",
      " \u001b[90m [438e738f] \u001b[39m\u001b[92m+ PyCall v1.96.0\u001b[39m\n",
      " \u001b[90m [24249f21] \u001b[39m\u001b[92m+ SymPy v1.1.9\u001b[39m\n",
      " \u001b[90m [81def892] \u001b[39m\u001b[92m+ VersionParsing v1.3.0\u001b[39m\n",
      "\u001b[32m\u001b[1m    Building\u001b[22m\u001b[39m Conda ─→ `C:\\Users\\Mauricio-Silva\\.julia\\scratchspaces\\44cfe95a-1eb2-52ea-b672-e2afdf69b78f\\915ebe6f0e7302693bdd8eac985797dba1d25662\\build.log`\n"
     ]
    },
    {
     "name": "stderr",
     "output_type": "stream",
     "text": [
      "\u001b[32m\u001b[1m    Building\u001b[22m\u001b[39m PyCall → `C:\\Users\\Mauricio-Silva\\.julia\\scratchspaces\\44cfe95a-1eb2-52ea-b672-e2afdf69b78f\\f33ca06633c2cf08753d235208fcb46a052072ea\\build.log`\n"
     ]
    },
    {
     "name": "stderr",
     "output_type": "stream",
     "text": [
      "\u001b[32m\u001b[1mPrecompiling\u001b[22m\u001b[39m "
     ]
    },
    {
     "name": "stderr",
     "output_type": "stream",
     "text": [
      "project..."
     ]
    },
    {
     "name": "stderr",
     "output_type": "stream",
     "text": [
      "\n"
     ]
    },
    {
     "name": "stderr",
     "output_type": "stream",
     "text": [
      "\u001b[32m  ✓ \u001b[39m\u001b[90mCommonEq\u001b[39m\n"
     ]
    },
    {
     "name": "stderr",
     "output_type": "stream",
     "text": [
      "\u001b[32m  ✓ \u001b[39m\u001b[90mCommonSolve\u001b[39m"
     ]
    },
    {
     "name": "stderr",
     "output_type": "stream",
     "text": [
      "\n"
     ]
    },
    {
     "name": "stderr",
     "output_type": "stream",
     "text": [
      "\u001b[32m  ✓ \u001b[39m\u001b[90mPyCall\u001b[39m\n"
     ]
    },
    {
     "name": "stderr",
     "output_type": "stream",
     "text": [
      "\u001b[32m  ✓ \u001b[39mSymPy\n",
      "  4 dependencies successfully precompiled in 23 seconds. 155 already precompiled.\n"
     ]
    }
   ],
   "source": [
    "import Pkg; Pkg.add(\"SymPy\")"
   ]
  },
  {
   "cell_type": "code",
   "execution_count": 4,
   "id": "d2e309cb",
   "metadata": {},
   "outputs": [
    {
     "name": "stderr",
     "output_type": "stream",
     "text": [
      "┌ Info: Installing sympy via the Conda sympy package...\n",
      "└ @ PyCall C:\\Users\\Mauricio-Silva\\.julia\\packages\\PyCall\\SBNSg\\src\\PyCall.jl:719\n",
      "┌ Info: Running `conda install -y sympy` in root environment\n",
      "└ @ Conda C:\\Users\\Mauricio-Silva\\.julia\\packages\\Conda\\xMClC\\src\\Conda.jl:127\n"
     ]
    },
    {
     "name": "stdout",
     "output_type": "stream",
     "text": [
      "Collecting package metadata (current_repodata.json): ...working... "
     ]
    },
    {
     "name": "stdout",
     "output_type": "stream",
     "text": [
      "done\r\n",
      "Solving environment: ...working... "
     ]
    },
    {
     "name": "stdout",
     "output_type": "stream",
     "text": [
      "done\r\n"
     ]
    },
    {
     "name": "stdout",
     "output_type": "stream",
     "text": [
      "\r\n",
      "## Package Plan ##\r\n",
      "\r\n",
      "  environment location: C:\\Users\\Mauricio-Silva\\.julia\\conda\\3\\x86_64\r\n",
      "\r\n",
      "  added / updated specs:\r\n",
      "    - sympy\r\n",
      "\r\n",
      "\r\n",
      "The following packages will be downloaded:\r\n",
      "\r\n",
      "    package                    |            build\r\n",
      "    ---------------------------|-----------------\r\n",
      "    mpmath-1.3.0               |     pyhd8ed1ab_0         428 KB  conda-forge\r\n",
      "    sympy-1.12                 |     pyh04b8f61_3         4.0 MB  conda-forge\r\n",
      "    ------------------------------------------------------------\r\n",
      "                                           Total:         4.5 MB\r\n",
      "\r\n",
      "The following NEW packages will be INSTALLED:\r\n",
      "\r\n",
      "  mpmath             conda-forge/noarch::mpmath-1.3.0-pyhd8ed1ab_0 \r\n",
      "  sympy              conda-forge/noarch::sympy-1.12-pyh04b8f61_3 \r\n",
      "\r\n",
      "\r\n",
      "\r\n",
      "Downloading and Extracting Packages\r\n",
      "\rmpmath-1.3.0         | 428 KB    |            |   0% \r\n",
      "\rsympy-1.12           | 4.0 MB    |            |   0% \u001b[A"
     ]
    },
    {
     "name": "stdout",
     "output_type": "stream",
     "text": [
      "\r\n",
      "\rsympy-1.12           | 4.0 MB    |            |   0% \u001b[A"
     ]
    },
    {
     "name": "stdout",
     "output_type": "stream",
     "text": [
      "\rmpmath-1.3.0         | 428 KB    | 3          |   4% \r\n"
     ]
    },
    {
     "name": "stdout",
     "output_type": "stream",
     "text": [
      "\rsympy-1.12           | 4.0 MB    | 3          |   3% \u001b[A\rmpmath-1.3.0         | 428 KB    | ##9        |  30% \r\n"
     ]
    },
    {
     "name": "stdout",
     "output_type": "stream",
     "text": [
      "\rsympy-1.12           | 4.0 MB    | 7          |   8% \u001b[A\rmpmath-1.3.0         | 428 KB    | #####6     |  56% "
     ]
    },
    {
     "name": "stdout",
     "output_type": "stream",
     "text": [
      "\r\n",
      "\rsympy-1.12           | 4.0 MB    | #          |  10% \u001b[A"
     ]
    },
    {
     "name": "stdout",
     "output_type": "stream",
     "text": [
      "\rmpmath-1.3.0         | 428 KB    | #######8   |  78% \r\n",
      "\rsympy-1.12           | 4.0 MB    | #3         |  13% \u001b[A"
     ]
    },
    {
     "name": "stdout",
     "output_type": "stream",
     "text": [
      "\r\n",
      "\rsympy-1.12           | 4.0 MB    | #7         |  18% \u001b[A"
     ]
    },
    {
     "name": "stdout",
     "output_type": "stream",
     "text": [
      "\r\n",
      "\rsympy-1.12           | 4.0 MB    | ##3        |  23% \u001b[A"
     ]
    },
    {
     "name": "stdout",
     "output_type": "stream",
     "text": [
      "\r\n",
      "\rsympy-1.12           | 4.0 MB    | ##7        |  27% \u001b[A\rmpmath-1.3.0         | 428 KB    | ########## | 100% \rmpmath-1.3.0         | 428 KB    | ########## | 100% "
     ]
    },
    {
     "name": "stdout",
     "output_type": "stream",
     "text": [
      "\r\n",
      "\rsympy-1.12           | 4.0 MB    | ###1       |  31% \u001b[A"
     ]
    },
    {
     "name": "stdout",
     "output_type": "stream",
     "text": [
      "\r\n",
      "\rsympy-1.12           | 4.0 MB    | ###8       |  39% \u001b[A"
     ]
    },
    {
     "name": "stdout",
     "output_type": "stream",
     "text": [
      "\r\n",
      "\rsympy-1.12           | 4.0 MB    | ####3      |  43% \u001b[A"
     ]
    },
    {
     "name": "stdout",
     "output_type": "stream",
     "text": [
      "\r\n",
      "\rsympy-1.12           | 4.0 MB    | ####8      |  48% \u001b[A"
     ]
    },
    {
     "name": "stdout",
     "output_type": "stream",
     "text": [
      "\r\n",
      "\rsympy-1.12           | 4.0 MB    | #####4     |  54% \u001b[A"
     ]
    },
    {
     "name": "stdout",
     "output_type": "stream",
     "text": [
      "\r\n",
      "\rsympy-1.12           | 4.0 MB    | #####9     |  60% \u001b[A"
     ]
    },
    {
     "name": "stdout",
     "output_type": "stream",
     "text": [
      "\r\n",
      "\rsympy-1.12           | 4.0 MB    | ######4    |  64% \u001b[A"
     ]
    },
    {
     "name": "stdout",
     "output_type": "stream",
     "text": [
      "\r\n",
      "\rsympy-1.12           | 4.0 MB    | ######8    |  68% \u001b[A"
     ]
    },
    {
     "name": "stdout",
     "output_type": "stream",
     "text": [
      "\r\n",
      "\rsympy-1.12           | 4.0 MB    | #######2   |  73% \u001b[A"
     ]
    },
    {
     "name": "stdout",
     "output_type": "stream",
     "text": [
      "\r\n",
      "\rsympy-1.12           | 4.0 MB    | #######8   |  79% \u001b[A"
     ]
    },
    {
     "name": "stdout",
     "output_type": "stream",
     "text": [
      "\r\n",
      "\rsympy-1.12           | 4.0 MB    | ########3  |  83% \u001b[A"
     ]
    },
    {
     "name": "stdout",
     "output_type": "stream",
     "text": [
      "\r\n",
      "\rsympy-1.12           | 4.0 MB    | ########9  |  89% \u001b[A"
     ]
    },
    {
     "name": "stdout",
     "output_type": "stream",
     "text": [
      "\r\n",
      "\rsympy-1.12           | 4.0 MB    | #########4 |  95% \u001b[A"
     ]
    },
    {
     "name": "stdout",
     "output_type": "stream",
     "text": [
      "\r\n",
      "\rsympy-1.12           | 4.0 MB    | ########## | 100% \u001b[A\r\n",
      "\rsympy-1.12           | 4.0 MB    | ########## | 100% \u001b[A\r                                                     \r\r\n",
      "\r                                                     \u001b[A\r\r\n",
      "Preparing transaction: ...working... "
     ]
    },
    {
     "name": "stdout",
     "output_type": "stream",
     "text": [
      "done\r\n",
      "Verifying transaction: ...working... "
     ]
    },
    {
     "name": "stdout",
     "output_type": "stream",
     "text": [
      "done\r\n"
     ]
    },
    {
     "name": "stdout",
     "output_type": "stream",
     "text": [
      "Executing transaction: ...working... "
     ]
    },
    {
     "name": "stdout",
     "output_type": "stream",
     "text": [
      "done\r\n"
     ]
    }
   ],
   "source": [
    "using SymPy"
   ]
  },
  {
   "attachments": {},
   "cell_type": "markdown",
   "id": "bc023ac1-1a18-46e6-bebb-7ada0f3fdb6d",
   "metadata": {},
   "source": [
    "## **Dinámica de la interacción de planta-polinizador**\n",
    "Sea un sistema compuesto por un solo animal polinizador, $a$, y una planta $p$. Aquí suponiendo una planta monofílica con un polinizador potencialmente capaz de explotar otras especies de plantas presentes. Las ecuaciones para la dinámica del sistema se pueden escribir como:\n",
    "\n",
    "\n",
    "\\begin{align}\n",
    "    \\cfrac{\\text{d} \\color{green}{p}}{\\text{d}t} &=  \\frac{ k_1 \\sigma \\phi \\mu \\color{blue}{a} \\color{green}{p} }{1 + \\phi \\sigma \\mu^2 \\color{green}{p}} - \\gamma \\color{green}{p} \\\\\n",
    "    \\cfrac{\\text{d} \\color{blue}{a}}{\\text{d}t} &= \\varepsilon {\\color{blue}{a}} (K - {\\color{blue}{a}} ) +  \\frac{ k_2 \\sigma \\mu^2 \\color{blue}{a} \\color{green}{p} }{ 1 + \\phi \\sigma \\mu^2 \\color{green}{p} }\n",
    "\\end{align}\n",
    "\n",
    "**Plantas**  \n",
    "$p$: número de plantas  \n",
    "$k_1$: constante de eficiencia que representa el número de óvulos fertilizados por visita de un polinizador  \n",
    "$\\sigma$: probabilidad de encuentro entre una planta y un polinizador  \n",
    "$\\mu$: recompensa energética de un polinizador por visita  \n",
    "$\\gamma$: tasa de defunción de la planta $p$  \n",
    "\n",
    "**Polinizadores**  \n",
    "$a$:  número de polinizadores. \n",
    "$\\phi$: constante relacionada recíprocamente con la velocidad de extracción del néctar  \n",
    "$k_2$: constante de transformación energética  \n",
    "$\\varepsilon$: constante de regulación de los polinizadores dependiente de la densidad  \n",
    "$K$: medida del grado de especialización de $a$ sobre $p$.  \n",
    "Si $K=0$, el polinizador no puede sobrevivir sin $p$; si $K>>0$, la ausencia de $p$ tiene poco efecto sobre la población de polinizadores; y si $K<<0$,  el polinizador es más específico.  \n",
    "$K=\\delta -\\lambda$,  siendo $\\lambda$ la máxima tasa de mortalidad en ausencia de la especie vegetal $p$ y $\\delta$ la tasa máxima de natalidad per cápita.\n",
    "\n",
    "\n",
    "\n",
    "\n",
    "\n"
   ]
  },
  {
   "attachments": {},
   "cell_type": "markdown",
   "id": "1d049e35-2f65-4dfd-b1ed-fff2cecead2e",
   "metadata": {},
   "source": [
    "Sean\n",
    "\n",
    "$\\kappa_1 = k_1 \\sigma \\phi \\mu$\n",
    "\n",
    "$\\Phi = \\phi \\sigma \\mu^2 $\n",
    "\n",
    "$\\kappa_2 = k_2 \\sigma \\mu^2 $\n",
    "\n",
    "\\begin{align}\n",
    "    \\cfrac{ \\text{d} \\color{green}{p} }{\\text{d}t} &=  \\frac{ \\kappa_1  \\color{blue}{a} \\color{green}{p} }{1 + \\Phi \\color{green}{p}} - \\gamma \\color{green}{p} \\\\\n",
    "    \\cfrac{\\text{d} \\color{blue}{a}}{\\text{d}t} &= \\varepsilon {\\color{blue}{a}} {( K - {\\color{blue}{a}} )} + \\frac{ \\kappa_2 \\color{blue}{a} \\color{green}{p}}{1 + \\Phi \\color{green}{p}}\n",
    "\\end{align}"
   ]
  },
  {
   "attachments": {},
   "cell_type": "markdown",
   "id": "38dcce49-2a40-49ad-ab16-35d3d61193ca",
   "metadata": {},
   "source": [
    "**Análisis de los puntos de equilibrio**\n",
    "\\begin{align}\n",
    "    \\cfrac{\\text{d} \\color{green}{p}}{\\text{d}t} &= 0 \\implies \\frac{ \\kappa_1  \\color{blue}{a} \\color{green}{p} }{1 + \\Phi \\color{green}{p}} - \\gamma {\\color{green}{p}} =0\\\\\n",
    "    \\cfrac{\\text{d} \\color{blue}{a}}{\\text{d}t} &= 0\\implies \\varepsilon {\\color{blue}{a}} (K - {\\color{blue}{a}})  + \\frac{\\kappa_2 {\\color{blue}{a}} {\\color{green}{p}}}{1 + \\Phi \\color{green}{p}}=0\n",
    "\\end{align}"
   ]
  },
  {
   "attachments": {},
   "cell_type": "markdown",
   "id": "90cc4dfe-2bb4-4197-b181-3924adc6cc10",
   "metadata": {},
   "source": [
    "Para detrminar los puntos de equilibrio es necesario resolver el siguiente sistema pa $a$ y $p$:\n",
    "\n",
    "\\begin{align}\n",
    "    \\frac{ \\kappa_1  \\color{blue}{a} \\color{green}{p} }{1 + \\Phi \\color{green}{p}} - \\gamma \\color{green}{p}& =0\\\\\n",
    "    \\varepsilon {\\color{blue}{a}} (K - {\\color{blue}{a}}) + \\frac{\\kappa_2 {\\color{blue}{a}} {\\color{green}{p}}}{1 + \\Phi {\\color{green}{p}}}&=0\n",
    "\\end{align}"
   ]
  },
  {
   "cell_type": "markdown",
   "id": "be330063-4c94-41f2-89c9-70cc258eb11a",
   "metadata": {},
   "source": [
    "La soluciones de equilibrio $[p^*, a^*]$ son funciones de los parámetros que deben tener sentido físico.\n",
    "* $p^*,a^*\\geq 0$."
   ]
  },
  {
   "cell_type": "code",
   "execution_count": 5,
   "id": "c475cde7-f1f5-457d-99a8-89a41ce4e1f3",
   "metadata": {},
   "outputs": [
    {
     "data": {
      "text/plain": [
       "(p, a, t, Φ, κ₁, κ₂, K, ε, γ)"
      ]
     },
     "metadata": {},
     "output_type": "display_data"
    }
   ],
   "source": [
    "@vars p a t Φ κ₁ κ₂ K ε γ"
   ]
  },
  {
   "attachments": {},
   "cell_type": "markdown",
   "id": "26aba2ba-2d9e-412d-9e06-ce4487a30dfa",
   "metadata": {},
   "source": [
    "### **Puntos de equilibrio**  \n",
    "\n",
    "\\begin{align}\n",
    "     \\frac{ \\kappa_1  \\color{blue}{a} \\color{green}{p} }{1 + \\Phi \\color{green}{p}} - \\gamma \\color{green}{p}&=0 \\\\\n",
    "     \\varepsilon {\\color{blue}{a}} (K - {\\color{blue}{a}} ) + \\frac{ \\kappa_2 {\\color{blue}{a}} {\\color{green}{p}} }{ 1 + \\Phi {\\color{green}{p}} }&=0\n",
    "\\end{align}\n",
    "\n",
    "\\begin{align}\n",
    "     {\\color{green}{p}} \\left[\\frac{ \\kappa_1  {\\color{blue}{a}} }{1 + \\Phi {\\color{green}{p}} } - \\gamma \\right]&=0 \\\\\n",
    "     {\\color{blue}{a}} \\left[\\varepsilon  (K - {\\color{blue}{a}}) + \\cfrac{ \\kappa_2 {\\color{green}{p}} } {1 + \\Phi {\\color{green}{p}} }\\right]&=0\n",
    "\\end{align}\n",
    "\n",
    "\n",
    "\n",
    "\n",
    "* Caso 1: $p=0$  \n",
    "De la ec.(2) resulta que $\\varepsilon {\\color{blue}{a}} (K - {\\color{blue}{a}} )=0$, lo cual implica que ${\\color{blue}{a}} =  0$ o $ {\\color{blue}{a}} = K$.  \n",
    "Se tienen entonces los siguientes puntos de equilibrio: ${\\bf{x}}_1^*=[0,0]$ y ${\\bf{x}}_2^*=[0,K]$.\n",
    "* Caso 2: $a=0$  \n",
    "De la ec. (1) resulta que $\\gamma p=0\\implies p=0$, y se obtiene el punto de equilibrio ${\\bf{x}}_1^*$.\n",
    "* Caso 3: $\\cfrac{ \\kappa_1  {\\color{blue}{a}} }{1 + \\Phi {\\color{green}{p}} } - \\gamma=0$  \n",
    "De esta condición se tiene que $\\kappa_1 {\\color{blue}{a}} - \\gamma(1 + \\Phi {\\color{green}{p}} )=0\\implies \n",
    "\\cfrac{ \\kappa_1 }{ \\gamma} {\\color{blue}{a}} = 1 + \\Phi {\\color{green}{p}} \\implies \n",
    "{\\color{green}{p}} = \\cfrac{ 1 }{ \\Phi } \\left( \\cfrac{\\kappa_1}{\\gamma} {\\color{blue}{a}} - 1 \\right) $.   \n",
    "Sustituyendo en la ec. (2) resulta que\n",
    "* Caso 4: $ \\varepsilon  (K - {\\color{blue}{a}} ) + \\cfrac{ \\kappa_2 {\\color{green}{p}} }{ 1 + \\Phi {\\color{green}{p}} } = 0 \\implies \\varepsilon  (K - {\\color{blue}{a}} )( 1 + \\Phi {\\color{green}{p}} ) + { \\kappa_2 {\\color{green}{p}} } = 0 $\n",
    "\n",
    "$ \\implies \\varepsilon  (K - {\\color{blue}{a}} ) + \\Phi \\varepsilon  ( K - {\\color{blue}{a}} ) {\\color{green}{p}} +  \\kappa_2 {\\color{green}{p}} =0 $\n",
    "\n",
    "$ \\implies \\varepsilon  (K - {\\color{blue}{a}} ) + \\left[ \\Phi \\varepsilon  (K - {\\color{blue}{a}} )+ \\kappa_2 \\right]{\\color{green}{p}} =0 $\n",
    "\n",
    "$\\implies {\\color{green}{p}} = -  \\cfrac{ \\varepsilon  ( K - {\\color{blue}{a}} )}{ \\Phi \\varepsilon  (K - {\\color{blue}{a}} ) + \\kappa_2 }$\n",
    "\n",
    "$  - \\cfrac{ \\kappa_1 }{ \\kappa_2 } \\varepsilon {\\color{blue}{a}} ( K - {\\color{blue}{a}} ) - \\gamma {\\color{green}{p}} = 0 $\n",
    "\n",
    "$  - \\cfrac{ \\kappa_1 }{ \\kappa_2 } \\varepsilon {\\color{blue}{a}} ( K - {\\color{blue}{a}} ) + \\gamma \\cfrac{ \\varepsilon  ( K - {\\color{blue}{a}} ) }{ \\Phi \\varepsilon  ( K - {\\color{blue}{a}} ) + \\kappa_2 } = 0$\n",
    "\n",
    "Si $ a \\neq K $, $  - \\cfrac{ \\kappa_1 }{ \\kappa_2 } \\varepsilon {\\color{blue}{a}} \\left[{ \\Phi \\varepsilon  ( K - {\\color{blue}{a}} ) + \\kappa_2 }\\right] + \\gamma \\varepsilon  = 0$"
   ]
  },
  {
   "cell_type": "markdown",
   "id": "fc0ae439-eb73-4aae-ab95-e2723a81d0ce",
   "metadata": {},
   "source": [
    "**Clasificación de los puntos de equilibrio**\n",
    "1. Nodo estable. Los dos eigenvalores de A tienen parte real estrictamente negativa.\n",
    "2. Nodo inestable. Los dos eigenvalores de A tienen parte real positiva.\n",
    "3. Punto silla. Un eigenvalor tiene parte real negativa, y el otro tiene parte real positiva.\n",
    "4. Vórtice o espiral estable. Los dos eigenvalores tienen parte imaginaria (distinta de cero), y ambos poseen parte real negativa.\n",
    "5. Vórtice o espiral inestable. Los dos eigenvalores tienen parte imaginaria (distinta de cero), y ambos poseen parte real positiva.\n",
    "6. Centro. Los dos eigenvalores tienen solo parte imaginaria.\n",
    "7. Nodo degenerado. Los dos eigenvalores son idénticos.\n",
    "8. Campo de línea. Uno de los dos eigenvalores es cero."
   ]
  },
  {
   "attachments": {},
   "cell_type": "markdown",
   "id": "8e9d3602-990c-4535-86d2-1cda196e4b80",
   "metadata": {},
   "source": [
    "\n",
    "* Inestable: $ \\text{Tr}~{ \\textsf{ \\bf{J} } }> 0$  y  $\\text{det}~{\\textsf{ \\bf{J} }} > 0$.\n",
    "* Punto silla: $\\text{det}~{\\textsf{ \\bf{J} }} < 0$.\n",
    "* Estable: $ \\text{Tr}~{\\textsf{ \\bf{J}}}< 0$ y $\\text{det}~{\\textsf{ \\bf{J} }} >0$.\n",
    "* Espiral inestable: $\\text{Tr}^2~{\\textsf{ \\bf{J} }} < 4\\text{ det}~{\\textsf{ \\bf{J} }}$ y $\\text{Tr}~{\\textsf{ \\bf{J} }} > 0$.\n",
    "*  Centro neutro: $\\text{Tr}^2~{\\textsf{ \\bf{J} }} <4 \\text{ det}~{\\textsf{ \\bf{J} }}$ y $\\text{Tr}~{\\textsf{ \\bf{J} }} = 0$.\n",
    "* Espiral estable: $\\text{Tr}^2~{\\textsf{ \\bf{J} }} <4 \\text{ det}~{\\textsf{ \\bf{J} }}$ y $\\text{Tr}~{\\textsf{ \\bf{J} }} < 0$."
   ]
  },
  {
   "cell_type": "code",
   "execution_count": 6,
   "id": "5faec2b9-b9a8-4f38-8179-a5b207164af1",
   "metadata": {},
   "outputs": [
    {
     "data": {
      "text/latex": [
       "$\\frac{K γ ε}{κ₁} - \\frac{p^{3} Φ^{3} γ^{2} ε}{κ₁^{2}} + p^{2} \\left(\\frac{K Φ^{2} γ ε}{κ₁} - \\frac{3 Φ^{2} γ^{2} ε}{κ₁^{2}} + \\frac{Φ γ κ₂}{κ₁}\\right) + p \\left(\\frac{2 K Φ γ ε}{κ₁} - \\frac{3 Φ γ^{2} ε}{κ₁^{2}} + \\frac{γ κ₂}{κ₁}\\right) - \\frac{γ^{2} ε}{κ₁^{2}}$"
      ],
      "text/plain": [
       "         3  3  2        /   2          2  2           \\     /                 \n",
       "K*γ*ε   p *Φ *γ *ε    2 |K*Φ *γ*ε   3*Φ *γ *ε   Φ*γ*κ₂|     |2*K*Φ*γ*ε   3*Φ*γ\n",
       "----- - ---------- + p *|-------- - --------- + ------| + p*|--------- - -----\n",
       "  κ₁         2          |   κ₁           2        κ₁  |     |    κ₁          2\n",
       "           κ₁           \\              κ₁             /     \\              κ₁ \n",
       "\n",
       "2         \\    2  \n",
       " *ε   γ*κ₂|   γ *ε\n",
       "--- + ----| - ----\n",
       "       κ₁ |     2 \n",
       "          /   κ₁  "
      ]
     },
     "metadata": {},
     "output_type": "display_data"
    }
   ],
   "source": [
    "#Obtención de los puntos de equilibrio\n",
    "#Caso 3\n",
    "aₛ  = γ/κ₁*(1 + Φ*p)\n",
    "f₂ₛ = ε*aₛ*(K - aₛ)*(1 + Φ*p) + κ₂*aₛ*p\n",
    "f₂ₛ_col = collect(expand(f₂ₛ),p)\n"
   ]
  },
  {
   "cell_type": "code",
   "execution_count": 7,
   "id": "9fb25c7b-1e3f-41d2-9d62-3d53a0981a0c",
   "metadata": {},
   "outputs": [
    {
     "data": {
      "text/latex": [
       "$- \\frac{a^{3} ε κ₁}{γ} + a^{2} \\left(\\frac{K ε κ₁}{γ} + \\frac{κ₁ κ₂}{Φ γ}\\right) - \\frac{a κ₂}{Φ}$"
      ],
      "text/plain": [
       "   3                                  \n",
       "  a *ε*κ₁    2 /K*ε*κ₁   κ₁*κ₂\\   a*κ₂\n",
       "- ------- + a *|------ + -----| - ----\n",
       "     γ         \\  γ       Φ*γ /    Φ  "
      ]
     },
     "metadata": {},
     "output_type": "display_data"
    }
   ],
   "source": [
    "pₛ  = (κ₁/γ*a-1)/Φ\n",
    "f₂ₛ = ε*a*(K - a)*(1 + Φ*pₛ) + κ₂*a*pₛ\n",
    "f₂ₛ_col = collect(expand(f₂ₛ),a)\n",
    "#ff = expand.[κ₁*a*p - γ*p*(1 + Φ*p), ε*a*(K - a)*(1 + Φ*p) + κ₂*a*p]"
   ]
  },
  {
   "cell_type": "code",
   "execution_count": 8,
   "id": "c921d5d8-b26e-4263-ae9e-2c43f0267091",
   "metadata": {},
   "outputs": [
    {
     "data": {
      "text/latex": [
       "$- \\frac{4 γ κ₂}{Φ ε κ₁} + \\frac{\\left(K Φ ε + κ₂\\right)^{2}}{Φ^{2} ε^{2}}$"
      ],
      "text/plain": [
       "                       2\n",
       "  4*γ*κ₂   (K*Φ*ε + κ₂) \n",
       "- ------ + -------------\n",
       "  Φ*ε*κ₁        2  2    \n",
       "               Φ *ε     "
      ]
     },
     "metadata": {},
     "output_type": "display_data"
    }
   ],
   "source": [
    "aₐ = simplify(f₂ₛ_col.coeff(a, 3))\n",
    "bₐ = simplify(f₂ₛ_col.coeff(a, 2))\n",
    "cₐ = simplify(f₂ₛ_col.coeff(a, 1))\n",
    "Δₐ = simplify((bₐ/aₐ)^2 - 4*(aₐ/aₐ)*(cₐ/aₐ))"
   ]
  },
  {
   "cell_type": "code",
   "execution_count": 9,
   "id": "0dd28ec1-fec7-48d4-95e1-c72f0e9b3c2a",
   "metadata": {},
   "outputs": [
    {
     "data": {
      "text/latex": [
       "$\\left[ \\begin{array}{r}\\frac{- 2 Φ γ ε + κ₁ \\left(K Φ ε - Φ ε \\sqrt{\\frac{- 4 Φ γ ε κ₂ + κ₁ \\left(K Φ ε + κ₂\\right)^{2}}{Φ^{2} ε^{2} κ₁}} + κ₂\\right)}{2 Φ^{2} γ ε}\\\\\\frac{K Φ ε - Φ ε \\sqrt{\\frac{- 4 Φ γ ε κ₂ + κ₁ \\left(K Φ ε + κ₂\\right)^{2}}{Φ^{2} ε^{2} κ₁}} + κ₂}{2 Φ ε}\\end{array} \\right]$\n"
      ],
      "text/plain": [
       "2-element Vector{Sym}:\n",
       " (-2*Φ*γ*ε + κ₁*(K*Φ*ε - Φ*ε*sqrt((-4*Φ*γ*ε*κ₂ + κ₁*(K*Φ*ε + κ₂)^2)/(Φ^2*ε^2*κ₁)) + κ₂))/(2*Φ^2*γ*ε)\n",
       "                     (K*Φ*ε - Φ*ε*sqrt((-4*Φ*γ*ε*κ₂ + κ₁*(K*Φ*ε + κ₂)^2)/(Φ^2*ε^2*κ₁)) + κ₂)/(2*Φ*ε)"
      ]
     },
     "metadata": {},
     "output_type": "display_data"
    }
   ],
   "source": [
    "aₛ₁ = together((-(bₐ/aₐ)-sqrt(Δₐ))/2)\n",
    "pₛ₁  = together(κ₁/γ*aₛ₁-1)/Φ\n",
    "\n",
    "[pₛ₁, aₛ₁]"
   ]
  },
  {
   "cell_type": "code",
   "execution_count": 10,
   "id": "ca4e186e-2932-4af8-885f-8666ee077399",
   "metadata": {},
   "outputs": [
    {
     "data": {
      "text/latex": [
       "$\\left[ \\begin{array}{r}\\frac{- 2 Φ γ ε + κ₁ \\left(K Φ ε + Φ ε \\sqrt{\\frac{- 4 Φ γ ε κ₂ + κ₁ \\left(K Φ ε + κ₂\\right)^{2}}{Φ^{2} ε^{2} κ₁}} + κ₂\\right)}{2 Φ^{2} γ ε}\\\\\\frac{K Φ ε + Φ ε \\sqrt{\\frac{- 4 Φ γ ε κ₂ + κ₁ \\left(K Φ ε + κ₂\\right)^{2}}{Φ^{2} ε^{2} κ₁}} + κ₂}{2 Φ ε}\\end{array} \\right]$\n"
      ],
      "text/plain": [
       "2-element Vector{Sym}:\n",
       " (-2*Φ*γ*ε + κ₁*(K*Φ*ε + Φ*ε*sqrt((-4*Φ*γ*ε*κ₂ + κ₁*(K*Φ*ε + κ₂)^2)/(Φ^2*ε^2*κ₁)) + κ₂))/(2*Φ^2*γ*ε)\n",
       "                     (K*Φ*ε + Φ*ε*sqrt((-4*Φ*γ*ε*κ₂ + κ₁*(K*Φ*ε + κ₂)^2)/(Φ^2*ε^2*κ₁)) + κ₂)/(2*Φ*ε)"
      ]
     },
     "metadata": {},
     "output_type": "display_data"
    }
   ],
   "source": [
    "aₛ₂ = together((-(bₐ/aₐ)+sqrt(Δₐ))/2)\n",
    "pₛ₂  = together((κ₁/γ*aₛ₂-1)/Φ)\n",
    "\n",
    "[pₛ₂, aₛ₂]"
   ]
  },
  {
   "cell_type": "code",
   "execution_count": 11,
   "id": "1e882581-4bdd-48cf-a6bf-c87be28f7e96",
   "metadata": {},
   "outputs": [
    {
     "data": {
      "text/latex": [
       "$\\frac{Φ γ ε κ₂ + κ₁ \\left(K Φ ε + κ₂\\right)^{2}}{2 Φ ε κ₁ \\left(K Φ ε + κ₂\\right)}$"
      ],
      "text/plain": [
       "                          2\n",
       "Φ*γ*ε*κ₂ + κ₁*(K*Φ*ε + κ₂) \n",
       "---------------------------\n",
       "   2*Φ*ε*κ₁*(K*Φ*ε + κ₂)   "
      ]
     },
     "metadata": {},
     "output_type": "display_data"
    }
   ],
   "source": [
    "simplify(-(bₐ/aₐ) + γ*κ₂/(κ₁*(K*Φ*ε + κ₂)))/2"
   ]
  },
  {
   "cell_type": "code",
   "execution_count": 12,
   "id": "bf568c09-ff4b-4cb5-a36b-5a6875a949d3",
   "metadata": {},
   "outputs": [
    {
     "data": {
      "text/latex": [
       "$\\frac{- Φ γ ε κ₂ + κ₁ \\left(K Φ ε + κ₂\\right)^{2}}{2 Φ ε κ₁ \\left(K Φ ε + κ₂\\right)}$"
      ],
      "text/plain": [
       "                           2\n",
       "-Φ*γ*ε*κ₂ + κ₁*(K*Φ*ε + κ₂) \n",
       "----------------------------\n",
       "   2*Φ*ε*κ₁*(K*Φ*ε + κ₂)    "
      ]
     },
     "metadata": {},
     "output_type": "display_data"
    }
   ],
   "source": [
    "simplify(-(bₐ/aₐ) - γ*κ₂/(κ₁*(K*Φ*ε + κ₂)))/2"
   ]
  },
  {
   "cell_type": "code",
   "execution_count": 13,
   "id": "72f4d707-2d99-44c3-a48e-4b48021c1956",
   "metadata": {},
   "outputs": [
    {
     "data": {
      "text/plain": [
       "F (generic function with 1 method)"
      ]
     },
     "metadata": {},
     "output_type": "display_data"
    }
   ],
   "source": [
    "#Declaración de la función\n",
    "F(p,a) = [κ₁*a*p/(1 + Φ*p) - γ*p, ε*a*(K - a) + κ₂*a*p/(1 + Φ*p)]"
   ]
  },
  {
   "cell_type": "code",
   "execution_count": 14,
   "id": "c20f47a5-8a23-4bc6-8994-b14ce5474ee3",
   "metadata": {},
   "outputs": [
    {
     "data": {
      "text/latex": [
       "$\\left[ \\begin{array}{rr}\\frac{a κ₁}{\\left(p Φ + 1\\right)^{2}} - γ&\\frac{p κ₁}{p Φ + 1}\\\\\\frac{a κ₂}{\\left(p Φ + 1\\right)^{2}}&\\frac{- a ε \\left(p Φ + 1\\right) + p κ₂ + ε \\left(K - a\\right) \\left(p Φ + 1\\right)}{p Φ + 1}\\end{array}\\right]$\n"
      ],
      "text/plain": [
       "2×2 Matrix{Sym}:\n",
       " a*κ₁/(p*Φ + 1)^2 - γ  …                                           p*κ₁/(p*Φ + 1)\n",
       "     a*κ₂/(p*Φ + 1)^2     (-a*ε*(p*Φ + 1) + p*κ₂ + ε*(K - a)*(p*Φ + 1))/(p*Φ + 1)"
      ]
     },
     "metadata": {},
     "output_type": "display_data"
    }
   ],
   "source": [
    "#Obtención del Jacobiano\n",
    "fun = F(p,a)\n",
    "dF  = simplify.(together.(fun.jacobian([p,a])))"
   ]
  },
  {
   "cell_type": "code",
   "execution_count": 15,
   "id": "959e301e-c532-4bb8-8919-e2b44e5f58fd",
   "metadata": {},
   "outputs": [
    {
     "data": {
      "text/latex": [
       "$\\left[ \\begin{array}{rr}\\frac{a κ₁}{\\left(p Φ + 1\\right)^{2}} - γ&\\frac{p κ₁}{p Φ + 1}\\\\\\frac{a κ₂}{\\left(p Φ + 1\\right)^{2}}&\\frac{- a ε \\left(p Φ + 1\\right) + p κ₂ + ε \\left(K - a\\right) \\left(p Φ + 1\\right)}{p Φ + 1}\\end{array}\\right]$\n"
      ],
      "text/plain": [
       "2×2 Matrix{Sym}:\n",
       " a*κ₁/(p*Φ + 1)^2 - γ  …                                           p*κ₁/(p*Φ + 1)\n",
       "     a*κ₂/(p*Φ + 1)^2     (-a*ε*(p*Φ + 1) + p*κ₂ + ε*(K - a)*(p*Φ + 1))/(p*Φ + 1)"
      ]
     },
     "metadata": {},
     "output_type": "display_data"
    }
   ],
   "source": [
    "simplify.(together.(dF))"
   ]
  },
  {
   "attachments": {},
   "cell_type": "markdown",
   "id": "a8a96162-527d-48d6-9f92-66a29eaddf19",
   "metadata": {},
   "source": [
    "\\begin{align}\n",
    "     { \\kappa_1  {\\color{blue}{a}} {\\color{green}{p}} } - \\gamma {\\color{green}{p}} \\left({ 1 + \\Phi {\\color{green}{p}} }\\right) &=0  \\\\\n",
    "     \\varepsilon {\\color{blue}{a}} ( K - {\\color{blue}{a}} ) \\left({ 1 + \\Phi {\\color{green}{p}} }\\right) + { \\kappa_2 {\\color{blue}{a}} {\\color{green}{p}} } &= 0\n",
    "\\end{align}\n",
    "\n",
    "\\begin{align}\n",
    "     {\\color{green}{p}} \\left[{ \\kappa_1  {\\color{blue}{a}}  } - \\gamma \\left({ 1 + \\Phi {\\color{green}{p}} }\\right) \\right] &= 0 \\\\\n",
    "     {\\color{blue}{a}} \\left[ \\varepsilon  ( K - {\\color{blue}{a}} ) \\left({ 1 + \\Phi {\\color{green}{p}} }\\right) + { \\kappa_2 {\\color{green}{p}} }\\right] &= 0\n",
    "\\end{align}"
   ]
  },
  {
   "cell_type": "code",
   "execution_count": null,
   "id": "e835f27f-c356-4c68-82d5-d518c0ab918e",
   "metadata": {},
   "outputs": [],
   "source": []
  }
 ],
 "metadata": {
  "kernelspec": {
   "display_name": "Julia 1.8.5",
   "language": "julia",
   "name": "julia-1.8"
  },
  "language_info": {
   "file_extension": ".jl",
   "mimetype": "application/julia",
   "name": "julia",
   "version": "1.8.5"
  }
 },
 "nbformat": 4,
 "nbformat_minor": 5
}
